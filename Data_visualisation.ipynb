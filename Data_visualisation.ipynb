{
 "cells": [
  {
   "cell_type": "code",
   "execution_count": 52,
   "metadata": {},
   "outputs": [],
   "source": [
    "import pandas as pd\n",
    "import seaborn as sns\n",
    "import json\n",
    "from sqlalchemy import create_engine"
   ]
  },
  {
   "cell_type": "markdown",
   "metadata": {},
   "source": [
    "# Data Visualisation:"
   ]
  },
  {
   "cell_type": "code",
   "execution_count": 53,
   "metadata": {},
   "outputs": [],
   "source": [
    "# Establish MySQL connection:\n",
    "\n",
    "with open(\"db_login.json\", \"r\") as f:\n",
    "    login = json.load(f)\n",
    "\n",
    "engine = create_engine(f\"mysql+pymysql://{login['user']}:{login['pass']}@{login['host']}/{login['db_name']}\",\n",
    "                        connect_args={\"ssl\":{\"fake_flag_to_enable_tls\":True}})"
   ]
  },
  {
   "cell_type": "markdown",
   "metadata": {},
   "source": [
    "#### 1. Which product offering is performing better?"
   ]
  },
  {
   "cell_type": "code",
   "execution_count": 54,
   "metadata": {},
   "outputs": [
    {
     "data": {
      "text/html": [
       "<div>\n",
       "<style scoped>\n",
       "    .dataframe tbody tr th:only-of-type {\n",
       "        vertical-align: middle;\n",
       "    }\n",
       "\n",
       "    .dataframe tbody tr th {\n",
       "        vertical-align: top;\n",
       "    }\n",
       "\n",
       "    .dataframe thead th {\n",
       "        text-align: right;\n",
       "    }\n",
       "</style>\n",
       "<table border=\"1\" class=\"dataframe\">\n",
       "  <thead>\n",
       "    <tr style=\"text-align: right;\">\n",
       "      <th></th>\n",
       "      <th>product</th>\n",
       "      <th>SUM(quantity)</th>\n",
       "    </tr>\n",
       "  </thead>\n",
       "  <tbody>\n",
       "    <tr>\n",
       "      <th>0</th>\n",
       "      <td>toothbrush</td>\n",
       "      <td>39.0</td>\n",
       "    </tr>\n",
       "    <tr>\n",
       "      <th>1</th>\n",
       "      <td>toys</td>\n",
       "      <td>27.0</td>\n",
       "    </tr>\n",
       "  </tbody>\n",
       "</table>\n",
       "</div>"
      ],
      "text/plain": [
       "      product  SUM(quantity)\n",
       "0  toothbrush           39.0\n",
       "1        toys           27.0"
      ]
     },
     "execution_count": 54,
     "metadata": {},
     "output_type": "execute_result"
    }
   ],
   "source": [
    "with open(\"queries/sales_per_product.sql\", 'r') as f:\n",
    "    query_1 = f.read()\n",
    "\n",
    "df_1 = pd.read_sql(query_1, engine)\n",
    "df_1"
   ]
  },
  {
   "cell_type": "code",
   "execution_count": 55,
   "metadata": {},
   "outputs": [
    {
     "data": {
      "text/plain": [
       "<AxesSubplot:xlabel='Product', ylabel='Sales volume'>"
      ]
     },
     "execution_count": 55,
     "metadata": {},
     "output_type": "execute_result"
    },
    {
     "data": {
      "image/png": "[encoded data removed]",
      "text/plain": [
       "<Figure size 432x288 with 1 Axes>"
      ]
     },
     "metadata": {
      "needs_background": "light"
     },
     "output_type": "display_data"
    }
   ],
   "source": [
    "df_1.rename(columns={'SUM(quantity)':'Sales volume', 'product':'Product'}, inplace=True)\n",
    "sns.barplot(x=\"Product\", y=\"Sales volume\", data=df_1)"
   ]
  },
  {
   "cell_type": "markdown",
   "metadata": {},
   "source": [
    "Overall, toothbrushes are performing substantially better."
   ]
  },
  {
   "cell_type": "markdown",
   "metadata": {},
   "source": [
    "#### 2. Demographic information:"
   ]
  },
  {
   "cell_type": "code",
   "execution_count": 56,
   "metadata": {},
   "outputs": [],
   "source": [
    "del df_1\n",
    "\n",
    "with open(\"queries/purchaser_ages.sql\", 'r') as f:\n",
    "    query_2_a = f.read()\n",
    "\n",
    "df_2_a = pd.read_sql(query_2_a, engine)\n",
    "\n",
    "with open(\"queries/purchaser_regions.sql\", 'r') as f:\n",
    "    query_2_b = f.read()\n",
    "\n",
    "df_2_b = pd.read_sql(query_2_b, engine)\n",
    "\n",
    "df_2_a.rename(columns={'COUNT(order_id)':'Order volume', 'product':'Product', 'age':'Purchaser age'}, inplace=True)\n",
    "df_2_b.rename(columns={'COUNT(order_id)':'Order volume', 'product':'Product', 'uk_region':'Purchaser region'}, inplace=True)"
   ]
  },
  {
   "cell_type": "code",
   "execution_count": 57,
   "metadata": {},
   "outputs": [
    {
     "data": {
      "text/plain": [
       "<AxesSubplot:xlabel='Purchaser age', ylabel='Order volume'>"
      ]
     },
     "execution_count": 57,
     "metadata": {},
     "output_type": "execute_result"
    },
    {
     "data": {
      "image/png": "[encoded data removed]",
      "text/plain": [
       "<Figure size 432x288 with 1 Axes>"
      ]
     },
     "metadata": {
      "needs_background": "light"
     },
     "output_type": "display_data"
    }
   ],
   "source": [
    "sns.scatterplot(x=\"Purchaser age\", y=\"Order volume\", data=df_2_a, hue=\"Product\")"
   ]
  },
  {
   "cell_type": "markdown",
   "metadata": {},
   "source": [
    "We can see that for toothbrushes, purchasers are highly likely to be in their early 20s, with another pickup in orders in the 45-60 age demographic. Toys are generally purchased by those in their early 30s."
   ]
  },
  {
   "cell_type": "code",
   "execution_count": 58,
   "metadata": {},
   "outputs": [
    {
     "data": {
      "text/plain": [
       "<AxesSubplot:xlabel='Purchaser region', ylabel='Order volume'>"
      ]
     },
     "execution_count": 58,
     "metadata": {},
     "output_type": "execute_result"
    },
    {
     "data": {
      "image/png": "[encoded data removed]",
      "text/plain": [
       "<Figure size 432x288 with 1 Axes>"
      ]
     },
     "metadata": {
      "needs_background": "light"
     },
     "output_type": "display_data"
    }
   ],
   "source": [
    "sns.barplot(x=\"Purchaser region\", y=\"Order volume\", data=df_2_b, hue=\"Product\")"
   ]
  },
  {
   "cell_type": "markdown",
   "metadata": {},
   "source": [
    "We can see that toothbrushes were sold in all regions except UK South, where there were no sales in the sample data. Toothbrushes were most popular in the North East, while toys were sold exclusively in the South East, where they were more popular than toothbrushes."
   ]
  },
  {
   "cell_type": "markdown",
   "metadata": {},
   "source": [
    "#### 3. Are sales seasonal?"
   ]
  },
  {
   "cell_type": "code",
   "execution_count": 59,
   "metadata": {},
   "outputs": [
    {
     "data": {
      "text/plain": [
       "<AxesSubplot:xlabel='Month', ylabel='Sales volume'>"
      ]
     },
     "execution_count": 59,
     "metadata": {},
     "output_type": "execute_result"
    },
    {
     "data": {
      "image/png": "[encoded data removed]",
      "text/plain": [
       "<Figure size 432x288 with 1 Axes>"
      ]
     },
     "metadata": {
      "needs_background": "light"
     },
     "output_type": "display_data"
    }
   ],
   "source": [
    "del df_2_a, df_2_b\n",
    "\n",
    "with open(\"queries/sales_per_month.sql\", 'r') as f:\n",
    "    query_3 = f.read()\n",
    "\n",
    "df_3 = pd.read_sql(query_3, engine)\n",
    "\n",
    "df_3.rename(columns={'SUM(quantity)':'Sales volume', 'product':'Product', 'MONTHNAME(order_month)':'Month'}, inplace=True)\n",
    "\n",
    "sns.barplot(x=\"Month\", y=\"Sales volume\", data=df_3, hue=\"Product\")"
   ]
  },
  {
   "cell_type": "markdown",
   "metadata": {},
   "source": [
    "We have no sales during the summer months at all, and very little during the spring, with 2 sales in May. Toothbrush sales don't appear to follow a recognisable seasonal pattern, and in any case it is hard to establish any consistent seasonal trends as we only have data for a single year. Toy spend appears to peak significantly during January, with only sporadic purchases in March and October otherwise."
   ]
  },
  {
   "cell_type": "markdown",
   "metadata": {},
   "source": [
    "#### 4. Is our marketing spend justified?\n",
    "\n",
    "We have no statistics for total sales volume as we only have a small sample dataset, so we have nothing to compare the marketing spend figure of £200,000,000 to. The sample data shows no sales for UK South, so if this is reflected in the whole dataset then the spend on marketing activities in this region is nearly unjustifiable. "
   ]
  },
  {
   "cell_type": "markdown",
   "metadata": {},
   "source": [
    "#### 5. CPA by region\n",
    "\n",
    "Our source website https://mystaticwebsite-3.s3.amazonaws.com/index.html contains data for October 2021 only, so we compare CPA during that month only."
   ]
  },
  {
   "cell_type": "code",
   "execution_count": 60,
   "metadata": {},
   "outputs": [
    {
     "data": {
      "text/plain": [
       "<AxesSubplot:xlabel='Region', ylabel='CPA saving relative to the regional average / £'>"
      ]
     },
     "execution_count": 60,
     "metadata": {},
     "output_type": "execute_result"
    },
    {
     "data": {
      "image/png": "[encoded data removed]",
      "text/plain": [
       "<Figure size 432x288 with 1 Axes>"
      ]
     },
     "metadata": {
      "needs_background": "light"
     },
     "output_type": "display_data"
    }
   ],
   "source": [
    "del df_3\n",
    "\n",
    "with open(\"queries/cpa_relative_to_research.sql\", 'r') as f:\n",
    "    query_5 = f.read()\n",
    "\n",
    "df_5 = pd.read_sql(query_5, engine)\n",
    "\n",
    "df_5.rename(columns={'above_average_cpa':'CPA saving relative to the regional average / £', 'uk_region':'Region'}, inplace=True)\n",
    "\n",
    "sns.barplot(x=\"Region\", y=\"CPA saving relative to the regional average / £\", data=df_5)"
   ]
  },
  {
   "cell_type": "markdown",
   "metadata": {},
   "source": [
    "We can see that our CPA for October 2021 is well under the average for all regions, with particularly great savings in the North East."
   ]
  },
  {
   "cell_type": "code",
   "execution_count": 61,
   "metadata": {},
   "outputs": [],
   "source": [
    "del df_5"
   ]
  }
 ],
 "metadata": {
  "kernelspec": {
   "display_name": "Python 3.9.12 ('base')",
   "language": "python",
   "name": "python3"
  },
  "language_info": {
   "codemirror_mode": {
    "name": "ipython",
    "version": 3
   },
   "file_extension": ".py",
   "mimetype": "text/x-python",
   "name": "python",
   "nbconvert_exporter": "python",
   "pygments_lexer": "ipython3",
   "version": "3.9.12"
  },
  "orig_nbformat": 4,
  "vscode": {
   "interpreter": {
    "hash": "1fcba68f5922d33352caa0417a8cb67a07dba6e71cb24b1c2a2965ea2289e844"
   }
  }
 },
 "nbformat": 4,
 "nbformat_minor": 2
}
