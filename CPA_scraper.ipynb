{
 "cells": [
  {
   "cell_type": "code",
   "execution_count": 28,
   "metadata": {},
   "outputs": [],
   "source": [
    "import json\n",
    "import requests\n",
    "import pandas as pd\n",
    "import pymysql.cursors\n",
    "from sqlalchemy import create_engine\n",
    "from bs4 import BeautifulSoup"
   ]
  },
  {
   "cell_type": "markdown",
   "metadata": {},
   "source": [
    "# CPA Scraper\n",
    "\n",
    "Scrape CPA data from https://mystaticwebsite-3.s3.amazonaws.com/index.html and insert table into database."
   ]
  },
  {
   "cell_type": "code",
   "execution_count": 29,
   "metadata": {},
   "outputs": [
    {
     "name": "stdout",
     "output_type": "stream",
     "text": [
      "oct_21_cpa_avgs\n"
     ]
    },
    {
     "data": {
      "text/html": [
       "<div>\n",
       "<style scoped>\n",
       "    .dataframe tbody tr th:only-of-type {\n",
       "        vertical-align: middle;\n",
       "    }\n",
       "\n",
       "    .dataframe tbody tr th {\n",
       "        vertical-align: top;\n",
       "    }\n",
       "\n",
       "    .dataframe thead th {\n",
       "        text-align: right;\n",
       "    }\n",
       "</style>\n",
       "<table border=\"1\" class=\"dataframe\">\n",
       "  <thead>\n",
       "    <tr style=\"text-align: right;\">\n",
       "      <th></th>\n",
       "      <th>Region</th>\n",
       "      <th>Average CPA by Region</th>\n",
       "    </tr>\n",
       "  </thead>\n",
       "  <tbody>\n",
       "    <tr>\n",
       "      <th>0</th>\n",
       "      <td>South East</td>\n",
       "      <td>£10.00</td>\n",
       "    </tr>\n",
       "    <tr>\n",
       "      <th>1</th>\n",
       "      <td>North East</td>\n",
       "      <td>£10.00</td>\n",
       "    </tr>\n",
       "    <tr>\n",
       "      <th>2</th>\n",
       "      <td>North</td>\n",
       "      <td>£8.00</td>\n",
       "    </tr>\n",
       "    <tr>\n",
       "      <th>3</th>\n",
       "      <td>South</td>\n",
       "      <td>£10.00</td>\n",
       "    </tr>\n",
       "  </tbody>\n",
       "</table>\n",
       "</div>"
      ],
      "text/plain": [
       "       Region Average CPA by Region\n",
       "0  South East                £10.00\n",
       "1  North East                £10.00\n",
       "2       North                 £8.00\n",
       "3       South                £10.00"
      ]
     },
     "execution_count": 29,
     "metadata": {},
     "output_type": "execute_result"
    }
   ],
   "source": [
    "data_url = \"https://mystaticwebsite-3.s3.amazonaws.com/index.html\"\n",
    "data = requests.get(data_url).text\n",
    "soup = BeautifulSoup(data, \"html.parser\")\n",
    "web_title = soup.h1.text\n",
    "month, year = web_title.split()[-2:]\n",
    "table_title = f\"{month[:3].lower()}_{year[-2:]}_cpa_avgs\"\n",
    "df = pd.read_html(data)[0]\n",
    "print(table_title)\n",
    "df\n"
   ]
  },
  {
   "cell_type": "code",
   "execution_count": 30,
   "metadata": {},
   "outputs": [],
   "source": [
    "# clean up columns for consistency\n",
    "\n",
    "df[\"Region\"] = df[\"Region\"].map(lambda x: \"UK \" + x)\n",
    "df[\"Average CPA by Region\"] = df[\"Average CPA by Region\"].str.slice(start=1).astype('float64')\n",
    "df.rename(columns={\"Region\": \"uk_region\", \"Average CPA by Region\": \"cpa_average\"}, inplace=True)"
   ]
  },
  {
   "cell_type": "code",
   "execution_count": 32,
   "metadata": {},
   "outputs": [],
   "source": [
    "with open(\"db_login.json\", \"r\") as f:\n",
    "    login = json.load(f)\n",
    "\n",
    "conn = pymysql.connect(\n",
    "    host=login['host'],\n",
    "    user=login['user'],\n",
    "    password=login['pass'],\n",
    "    database=login['db_name'],\n",
    "    cursorclass=pymysql.cursors.DictCursor,\n",
    "    ssl={\"fake_flag_to_enable_tls\":True}\n",
    "    # see link https://stackoverflow.com/questions/55617520/unable-to-make-tls-tcp-connection-to-remote-mysql-server-with-pymysql-other-too\n",
    ")\n",
    "engine = create_engine(f\"mysql+pymysql://{login['user']}:{login['pass']}@{login['host']}/{login['db_name']}\",\n",
    "                        connect_args={\"ssl\":{\"fake_flag_to_enable_tls\":True}})\n",
    "\n",
    "with conn:\n",
    "    with conn.cursor() as cur:\n",
    "        cur.execute(f\"\"\"\n",
    "                    CREATE TABLE IF NOT EXISTS {table_title}(\n",
    "                    uk_region VARCHAR(20) PRIMARY KEY,\n",
    "                    cpa_average DOUBLE\n",
    "        );\"\"\")\n",
    "    conn.commit()\n",
    "    df.to_sql(table_title, engine, if_exists='append', index=False)"
   ]
  }
 ],
 "metadata": {
  "kernelspec": {
   "display_name": "Python 3.9.12 ('base')",
   "language": "python",
   "name": "python3"
  },
  "language_info": {
   "codemirror_mode": {
    "name": "ipython",
    "version": 3
   },
   "file_extension": ".py",
   "mimetype": "text/x-python",
   "name": "python",
   "nbconvert_exporter": "python",
   "pygments_lexer": "ipython3",
   "version": "3.9.12"
  },
  "orig_nbformat": 4,
  "vscode": {
   "interpreter": {
    "hash": "1fcba68f5922d33352caa0417a8cb67a07dba6e71cb24b1c2a2965ea2289e844"
   }
  }
 },
 "nbformat": 4,
 "nbformat_minor": 2
}
