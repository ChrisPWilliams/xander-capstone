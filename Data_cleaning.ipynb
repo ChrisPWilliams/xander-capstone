{
 "cells": [
  {
   "cell_type": "code",
   "execution_count": 2,
   "metadata": {},
   "outputs": [],
   "source": [
    "import requests\n",
    "import pandas as pd\n",
    "import matplotlib.pyplot as plt\n",
    "from bs4 import BeautifulSoup\n",
    "import re\n",
    "import pymysql.cursors\n",
    "from sqlalchemy import create_engine\n",
    "import json"
   ]
  },
  {
   "cell_type": "markdown",
   "metadata": {},
   "source": [
    "# Sales data for ACME Corp.\n",
    "\n",
    "## Project requirements\n",
    "\n",
    "1. Which product offering is performing better \n",
    "\n",
    "2. Provide information on user demographics (age range, region) would help them hone in on marketing spend \n",
    "\n",
    "3. Are the sales seasonal or does it remain consistent throughout the year \n",
    "\n",
    "4. In the year 2021, our nationwide marketing spend was £200,000,000. Marketing activities covered the following regions - UK South East, UK North East, UK North, UK South. Can we justify the spend or was it a wasteful expenditure? \n",
    "\n",
    "5. We need to find out by region if our CPA – cost per acquisition is higher or lower than the average as per the research found on https://mystaticwebsite-3.s3.amazonaws.com/index.html "
   ]
  },
  {
   "cell_type": "code",
   "execution_count": 3,
   "metadata": {},
   "outputs": [
    {
     "name": "stdout",
     "output_type": "stream",
     "text": [
      "<class 'pandas.core.frame.DataFrame'>\n",
      "RangeIndex: 51 entries, 0 to 50\n",
      "Data columns (total 7 columns):\n",
      " #   Column       Non-Null Count  Dtype  \n",
      "---  ------       --------------  -----  \n",
      " 0   order_id     50 non-null     float64\n",
      " 1   product      50 non-null     object \n",
      " 2   quantity     50 non-null     float64\n",
      " 3   order_month  50 non-null     object \n",
      " 4   age          50 non-null     float64\n",
      " 5   uk_region    50 non-null     object \n",
      " 6   cpa          50 non-null     float64\n",
      "dtypes: float64(4), object(3)\n",
      "memory usage: 2.9+ KB\n"
     ]
    }
   ],
   "source": [
    "data_url = \"https://mystaticwebsite-3.s3.amazonaws.com/test-data.csv\"\n",
    "data = requests.get(data_url).content\n",
    "file_path = \"data/\" + data_url.split('/')[-1]\n",
    "with open(file_path, 'wb') as f:\n",
    "    f.write(data)\n",
    "df = pd.read_csv(file_path)\n",
    "df.info()"
   ]
  },
  {
   "cell_type": "code",
   "execution_count": 4,
   "metadata": {},
   "outputs": [
    {
     "data": {
      "text/html": [
       "<div>\n",
       "<style scoped>\n",
       "    .dataframe tbody tr th:only-of-type {\n",
       "        vertical-align: middle;\n",
       "    }\n",
       "\n",
       "    .dataframe tbody tr th {\n",
       "        vertical-align: top;\n",
       "    }\n",
       "\n",
       "    .dataframe thead th {\n",
       "        text-align: right;\n",
       "    }\n",
       "</style>\n",
       "<table border=\"1\" class=\"dataframe\">\n",
       "  <thead>\n",
       "    <tr style=\"text-align: right;\">\n",
       "      <th></th>\n",
       "      <th>order_id</th>\n",
       "      <th>product</th>\n",
       "      <th>quantity</th>\n",
       "      <th>order_month</th>\n",
       "      <th>age</th>\n",
       "      <th>uk_region</th>\n",
       "      <th>cpa</th>\n",
       "    </tr>\n",
       "  </thead>\n",
       "  <tbody>\n",
       "    <tr>\n",
       "      <th>50</th>\n",
       "      <td>NaN</td>\n",
       "      <td>NaN</td>\n",
       "      <td>NaN</td>\n",
       "      <td>NaN</td>\n",
       "      <td>NaN</td>\n",
       "      <td>NaN</td>\n",
       "      <td>NaN</td>\n",
       "    </tr>\n",
       "  </tbody>\n",
       "</table>\n",
       "</div>"
      ],
      "text/plain": [
       "    order_id product  quantity order_month  age uk_region  cpa\n",
       "50       NaN     NaN       NaN         NaN  NaN       NaN  NaN"
      ]
     },
     "execution_count": 4,
     "metadata": {},
     "output_type": "execute_result"
    }
   ],
   "source": [
    "df[df.isna().any(axis=1)]"
   ]
  },
  {
   "cell_type": "code",
   "execution_count": 5,
   "metadata": {},
   "outputs": [],
   "source": [
    "# One row containing all nulls, no other nulls so can safely drop\n",
    "\n",
    "df.dropna(inplace=True)"
   ]
  },
  {
   "cell_type": "markdown",
   "metadata": {},
   "source": [
    "Assumptions for each column to check validation:\n",
    "* order_id : must be unique positive int\n",
    "* product : must be either \"toys\" or \"toothbrush\"\n",
    "* quantity : must be positive int\n",
    "* order_month : must be in the format mmm-yy\n",
    "* age : must be positive int, should be a sensible number\n",
    "* uk_region : must be either \"UK South East\", \"UK North East\", \"UK North\", or \"UK South\"\n",
    "* cpa : must be positive numeric"
   ]
  },
  {
   "cell_type": "code",
   "execution_count": 6,
   "metadata": {},
   "outputs": [
    {
     "name": "stdout",
     "output_type": "stream",
     "text": [
      "count    50.00000\n",
      "mean     25.50000\n",
      "std      14.57738\n",
      "min       1.00000\n",
      "25%      13.25000\n",
      "50%      25.50000\n",
      "75%      37.75000\n",
      "max      50.00000\n",
      "Name: order_id, dtype: float64\n",
      "count             50\n",
      "unique             2\n",
      "top       toothbrush\n",
      "freq              35\n",
      "Name: product, dtype: object\n",
      "count    50.000000\n",
      "mean      1.320000\n",
      "std       0.586933\n",
      "min       1.000000\n",
      "25%       1.000000\n",
      "50%       1.000000\n",
      "75%       1.750000\n",
      "max       3.000000\n",
      "Name: quantity, dtype: float64\n",
      "count         50\n",
      "unique         5\n",
      "top       Mar-21\n",
      "freq          14\n",
      "Name: order_month, dtype: object\n",
      "count    50.000000\n",
      "mean     30.840000\n",
      "std      20.769247\n",
      "min     -59.000000\n",
      "25%      21.000000\n",
      "50%      31.000000\n",
      "75%      42.500000\n",
      "max      60.000000\n",
      "Name: age, dtype: float64\n",
      "count                50\n",
      "unique                3\n",
      "top       UK South East\n",
      "freq                 22\n",
      "Name: uk_region, dtype: object\n",
      "count    50.000000\n",
      "mean      3.180000\n",
      "std       1.955526\n",
      "min       1.000000\n",
      "25%       2.000000\n",
      "50%       3.000000\n",
      "75%       3.000000\n",
      "max      10.000000\n",
      "Name: cpa, dtype: float64\n"
     ]
    }
   ],
   "source": [
    "for col in df.columns:\n",
    "    print(df[col].describe())"
   ]
  },
  {
   "cell_type": "code",
   "execution_count": 7,
   "metadata": {},
   "outputs": [
    {
     "name": "stdout",
     "output_type": "stream",
     "text": [
      "Unique order ids: 50\n",
      "Number of orders: 50\n"
     ]
    }
   ],
   "source": [
    "print(f\"Unique order ids: {df['order_id'].nunique()}\")\n",
    "print(f\"Number of orders: {len(df)}\")"
   ]
  },
  {
   "cell_type": "code",
   "execution_count": 8,
   "metadata": {},
   "outputs": [
    {
     "data": {
      "text/plain": [
       "toothbrush    35\n",
       "toys          15\n",
       "Name: product, dtype: int64"
      ]
     },
     "execution_count": 8,
     "metadata": {},
     "output_type": "execute_result"
    }
   ],
   "source": [
    "# order_id is fine, check product:\n",
    "df['product'].value_counts()"
   ]
  },
  {
   "cell_type": "code",
   "execution_count": 9,
   "metadata": {},
   "outputs": [
    {
     "data": {
      "text/html": [
       "<div>\n",
       "<style scoped>\n",
       "    .dataframe tbody tr th:only-of-type {\n",
       "        vertical-align: middle;\n",
       "    }\n",
       "\n",
       "    .dataframe tbody tr th {\n",
       "        vertical-align: top;\n",
       "    }\n",
       "\n",
       "    .dataframe thead th {\n",
       "        text-align: right;\n",
       "    }\n",
       "</style>\n",
       "<table border=\"1\" class=\"dataframe\">\n",
       "  <thead>\n",
       "    <tr style=\"text-align: right;\">\n",
       "      <th></th>\n",
       "      <th>order_id</th>\n",
       "      <th>product</th>\n",
       "      <th>quantity</th>\n",
       "      <th>order_month</th>\n",
       "      <th>age</th>\n",
       "      <th>uk_region</th>\n",
       "      <th>cpa</th>\n",
       "    </tr>\n",
       "  </thead>\n",
       "  <tbody>\n",
       "  </tbody>\n",
       "</table>\n",
       "</div>"
      ],
      "text/plain": [
       "Empty DataFrame\n",
       "Columns: [order_id, product, quantity, order_month, age, uk_region, cpa]\n",
       "Index: []"
      ]
     },
     "execution_count": 9,
     "metadata": {},
     "output_type": "execute_result"
    }
   ],
   "source": [
    "# product is fine, check quantity:\n",
    "df[df['quantity'].map(lambda x: (x % 1 != 0) or (x < 0))]"
   ]
  },
  {
   "cell_type": "code",
   "execution_count": 10,
   "metadata": {},
   "outputs": [
    {
     "data": {
      "text/html": [
       "<div>\n",
       "<style scoped>\n",
       "    .dataframe tbody tr th:only-of-type {\n",
       "        vertical-align: middle;\n",
       "    }\n",
       "\n",
       "    .dataframe tbody tr th {\n",
       "        vertical-align: top;\n",
       "    }\n",
       "\n",
       "    .dataframe thead th {\n",
       "        text-align: right;\n",
       "    }\n",
       "</style>\n",
       "<table border=\"1\" class=\"dataframe\">\n",
       "  <thead>\n",
       "    <tr style=\"text-align: right;\">\n",
       "      <th></th>\n",
       "      <th>order_id</th>\n",
       "      <th>product</th>\n",
       "      <th>quantity</th>\n",
       "      <th>order_month</th>\n",
       "      <th>age</th>\n",
       "      <th>uk_region</th>\n",
       "      <th>cpa</th>\n",
       "    </tr>\n",
       "  </thead>\n",
       "  <tbody>\n",
       "  </tbody>\n",
       "</table>\n",
       "</div>"
      ],
      "text/plain": [
       "Empty DataFrame\n",
       "Columns: [order_id, product, quantity, order_month, age, uk_region, cpa]\n",
       "Index: []"
      ]
     },
     "execution_count": 10,
     "metadata": {},
     "output_type": "execute_result"
    }
   ],
   "source": [
    "# quantity is fine, check order month:\n",
    "df[df[\"order_month\"].map(lambda x: not re.match(r\"(Jan|Feb|Mar|Apr|May|Jun|Jul|Aug|Sep|Oct|Nov|Dec)-[0-9]{2}\", x))]"
   ]
  },
  {
   "cell_type": "code",
   "execution_count": 11,
   "metadata": {},
   "outputs": [
    {
     "data": {
      "text/html": [
       "<div>\n",
       "<style scoped>\n",
       "    .dataframe tbody tr th:only-of-type {\n",
       "        vertical-align: middle;\n",
       "    }\n",
       "\n",
       "    .dataframe tbody tr th {\n",
       "        vertical-align: top;\n",
       "    }\n",
       "\n",
       "    .dataframe thead th {\n",
       "        text-align: right;\n",
       "    }\n",
       "</style>\n",
       "<table border=\"1\" class=\"dataframe\">\n",
       "  <thead>\n",
       "    <tr style=\"text-align: right;\">\n",
       "      <th></th>\n",
       "      <th>order_id</th>\n",
       "      <th>product</th>\n",
       "      <th>quantity</th>\n",
       "      <th>order_month</th>\n",
       "      <th>age</th>\n",
       "      <th>uk_region</th>\n",
       "      <th>cpa</th>\n",
       "    </tr>\n",
       "  </thead>\n",
       "  <tbody>\n",
       "    <tr>\n",
       "      <th>21</th>\n",
       "      <td>22.0</td>\n",
       "      <td>toothbrush</td>\n",
       "      <td>1.0</td>\n",
       "      <td>Mar-21</td>\n",
       "      <td>-59.0</td>\n",
       "      <td>UK North East</td>\n",
       "      <td>5.0</td>\n",
       "    </tr>\n",
       "    <tr>\n",
       "      <th>31</th>\n",
       "      <td>32.0</td>\n",
       "      <td>toys</td>\n",
       "      <td>1.0</td>\n",
       "      <td>Jan-21</td>\n",
       "      <td>-31.0</td>\n",
       "      <td>UK South East</td>\n",
       "      <td>2.0</td>\n",
       "    </tr>\n",
       "  </tbody>\n",
       "</table>\n",
       "</div>"
      ],
      "text/plain": [
       "    order_id     product  quantity order_month   age      uk_region  cpa\n",
       "21      22.0  toothbrush       1.0      Mar-21 -59.0  UK North East  5.0\n",
       "31      32.0        toys       1.0      Jan-21 -31.0  UK South East  2.0"
      ]
     },
     "execution_count": 11,
     "metadata": {},
     "output_type": "execute_result"
    }
   ],
   "source": [
    "# order month is fine, check age:\n",
    "df[df['age'].map(lambda x: (x % 1 != 0) or (x < 0) or (x > 100))]"
   ]
  },
  {
   "cell_type": "code",
   "execution_count": 12,
   "metadata": {},
   "outputs": [],
   "source": [
    "# looks like 2 ages have accidentally been entered with minus signs, this can be easily reversed:\n",
    "\n",
    "df['age'] = abs(df['age'])"
   ]
  },
  {
   "cell_type": "code",
   "execution_count": 13,
   "metadata": {},
   "outputs": [
    {
     "data": {
      "text/plain": [
       "UK South East    22\n",
       "UK North East    20\n",
       "UK North          8\n",
       "Name: uk_region, dtype: int64"
      ]
     },
     "execution_count": 13,
     "metadata": {},
     "output_type": "execute_result"
    }
   ],
   "source": [
    "# check uk_region\n",
    "\n",
    "df['uk_region'].value_counts()"
   ]
  },
  {
   "cell_type": "code",
   "execution_count": 14,
   "metadata": {},
   "outputs": [],
   "source": [
    "# no data for UK South, otherwise the column is fine."
   ]
  },
  {
   "cell_type": "markdown",
   "metadata": {},
   "source": [
    "Individual columns are cleaned successfully, however for analysis of seasonality it will be useful to separate out months from years. We will also need to set the types of relevant columns to int to make sure that unnecessary decimal places are not saved."
   ]
  },
  {
   "cell_type": "code",
   "execution_count": 15,
   "metadata": {},
   "outputs": [],
   "source": [
    "df['order_year'] = df['order_month'].map(lambda x: x[-2:])\n",
    "df['order_month'] = df['order_month'].map(lambda x: x[:3])\n",
    "\n",
    "for col in ['order_id', 'quantity', 'age', 'order_year']:\n",
    "    df[col] = df[col].astype('int64')\n",
    "\n",
    "# This is where I would put my database connector to do this programmatically - csv will be uploaded via MySQL Workbench instead\n",
    "\n",
    "# df.to_csv('data/test-data-clean.csv', index=False)"
   ]
  },
  {
   "cell_type": "code",
   "execution_count": 20,
   "metadata": {},
   "outputs": [
    {
     "name": "stderr",
     "output_type": "stream",
     "text": [
      "c:\\Users\\ChrisWilliams\\anaconda3\\lib\\site-packages\\pandas\\io\\sql.py:761: UserWarning: pandas only support SQLAlchemy connectable(engine/connection) ordatabase string URI or sqlite3 DBAPI2 connectionother DBAPI2 objects are not tested, please consider using SQLAlchemy\n",
      "  warnings.warn(\n"
     ]
    },
    {
     "ename": "DatabaseError",
     "evalue": "Execution failed on sql 'SELECT name FROM sqlite_master WHERE type='table' AND name=?;': not all arguments converted during string formatting",
     "output_type": "error",
     "traceback": [
      "\u001b[1;31m---------------------------------------------------------------------------\u001b[0m",
      "\u001b[1;31mTypeError\u001b[0m                                 Traceback (most recent call last)",
      "File \u001b[1;32mc:\\Users\\ChrisWilliams\\anaconda3\\lib\\site-packages\\pandas\\io\\sql.py:2020\u001b[0m, in \u001b[0;36mSQLiteDatabase.execute\u001b[1;34m(self, *args, **kwargs)\u001b[0m\n\u001b[0;32m   2019\u001b[0m \u001b[39mtry\u001b[39;00m:\n\u001b[1;32m-> 2020\u001b[0m     cur\u001b[39m.\u001b[39mexecute(\u001b[39m*\u001b[39margs, \u001b[39m*\u001b[39m\u001b[39m*\u001b[39mkwargs)\n\u001b[0;32m   2021\u001b[0m     \u001b[39mreturn\u001b[39;00m cur\n",
      "File \u001b[1;32mc:\\Users\\ChrisWilliams\\anaconda3\\lib\\site-packages\\pymysql\\cursors.py:146\u001b[0m, in \u001b[0;36mCursor.execute\u001b[1;34m(self, query, args)\u001b[0m\n\u001b[0;32m    144\u001b[0m     \u001b[39mpass\u001b[39;00m\n\u001b[1;32m--> 146\u001b[0m query \u001b[39m=\u001b[39m \u001b[39mself\u001b[39;49m\u001b[39m.\u001b[39;49mmogrify(query, args)\n\u001b[0;32m    148\u001b[0m result \u001b[39m=\u001b[39m \u001b[39mself\u001b[39m\u001b[39m.\u001b[39m_query(query)\n",
      "File \u001b[1;32mc:\\Users\\ChrisWilliams\\anaconda3\\lib\\site-packages\\pymysql\\cursors.py:125\u001b[0m, in \u001b[0;36mCursor.mogrify\u001b[1;34m(self, query, args)\u001b[0m\n\u001b[0;32m    124\u001b[0m \u001b[39mif\u001b[39;00m args \u001b[39mis\u001b[39;00m \u001b[39mnot\u001b[39;00m \u001b[39mNone\u001b[39;00m:\n\u001b[1;32m--> 125\u001b[0m     query \u001b[39m=\u001b[39m query \u001b[39m%\u001b[39;49m \u001b[39mself\u001b[39;49m\u001b[39m.\u001b[39;49m_escape_args(args, conn)\n\u001b[0;32m    127\u001b[0m \u001b[39mreturn\u001b[39;00m query\n",
      "\u001b[1;31mTypeError\u001b[0m: not all arguments converted during string formatting",
      "\nThe above exception was the direct cause of the following exception:\n",
      "\u001b[1;31mDatabaseError\u001b[0m                             Traceback (most recent call last)",
      "\u001b[1;32mc:\\Users\\ChrisWilliams\\Documents\\capstone_project\\Data_cleaning.ipynb Cell 18\u001b[0m in \u001b[0;36m<cell line: 14>\u001b[1;34m()\u001b[0m\n\u001b[0;32m     <a href='vscode-notebook-cell:/c%3A/Users/ChrisWilliams/Documents/capstone_project/Data_cleaning.ipynb#X23sZmlsZQ%3D%3D?line=15'>16</a>\u001b[0m     cur\u001b[39m.\u001b[39mexecute(\u001b[39m\"\"\"\u001b[39m\n\u001b[0;32m     <a href='vscode-notebook-cell:/c%3A/Users/ChrisWilliams/Documents/capstone_project/Data_cleaning.ipynb#X23sZmlsZQ%3D%3D?line=16'>17</a>\u001b[0m \u001b[39m                CREATE TABLE IF NOT EXISTS test_clean(\u001b[39m\n\u001b[0;32m     <a href='vscode-notebook-cell:/c%3A/Users/ChrisWilliams/Documents/capstone_project/Data_cleaning.ipynb#X23sZmlsZQ%3D%3D?line=17'>18</a>\u001b[0m \u001b[39m                order_id INTEGER PRIMARY KEY NOT NULL,\u001b[39m\n\u001b[1;32m   (...)\u001b[0m\n\u001b[0;32m     <a href='vscode-notebook-cell:/c%3A/Users/ChrisWilliams/Documents/capstone_project/Data_cleaning.ipynb#X23sZmlsZQ%3D%3D?line=24'>25</a>\u001b[0m \u001b[39m                order_year INTEGER\u001b[39m\n\u001b[0;32m     <a href='vscode-notebook-cell:/c%3A/Users/ChrisWilliams/Documents/capstone_project/Data_cleaning.ipynb#X23sZmlsZQ%3D%3D?line=25'>26</a>\u001b[0m \u001b[39m    );\u001b[39m\u001b[39m\"\"\"\u001b[39m)\n\u001b[0;32m     <a href='vscode-notebook-cell:/c%3A/Users/ChrisWilliams/Documents/capstone_project/Data_cleaning.ipynb#X23sZmlsZQ%3D%3D?line=26'>27</a>\u001b[0m conn\u001b[39m.\u001b[39mcommit()\n\u001b[1;32m---> <a href='vscode-notebook-cell:/c%3A/Users/ChrisWilliams/Documents/capstone_project/Data_cleaning.ipynb#X23sZmlsZQ%3D%3D?line=27'>28</a>\u001b[0m df\u001b[39m.\u001b[39;49mto_sql(\u001b[39m'\u001b[39;49m\u001b[39mtest_clean\u001b[39;49m\u001b[39m'\u001b[39;49m, conn, if_exists\u001b[39m=\u001b[39;49m\u001b[39m'\u001b[39;49m\u001b[39mappend\u001b[39;49m\u001b[39m'\u001b[39;49m, schema\u001b[39m=\u001b[39;49m\u001b[39m\"\u001b[39;49m\u001b[39mdb2\u001b[39;49m\u001b[39m\"\u001b[39;49m)\n",
      "File \u001b[1;32mc:\\Users\\ChrisWilliams\\anaconda3\\lib\\site-packages\\pandas\\core\\generic.py:2951\u001b[0m, in \u001b[0;36mNDFrame.to_sql\u001b[1;34m(self, name, con, schema, if_exists, index, index_label, chunksize, dtype, method)\u001b[0m\n\u001b[0;32m   2794\u001b[0m \u001b[39m\"\"\"\u001b[39;00m\n\u001b[0;32m   2795\u001b[0m \u001b[39mWrite records stored in a DataFrame to a SQL database.\u001b[39;00m\n\u001b[0;32m   2796\u001b[0m \n\u001b[1;32m   (...)\u001b[0m\n\u001b[0;32m   2947\u001b[0m \u001b[39m[(1,), (None,), (2,)]\u001b[39;00m\n\u001b[0;32m   2948\u001b[0m \u001b[39m\"\"\"\u001b[39;00m  \u001b[39m# noqa:E501\u001b[39;00m\n\u001b[0;32m   2949\u001b[0m \u001b[39mfrom\u001b[39;00m \u001b[39mpandas\u001b[39;00m\u001b[39m.\u001b[39;00m\u001b[39mio\u001b[39;00m \u001b[39mimport\u001b[39;00m sql\n\u001b[1;32m-> 2951\u001b[0m \u001b[39mreturn\u001b[39;00m sql\u001b[39m.\u001b[39;49mto_sql(\n\u001b[0;32m   2952\u001b[0m     \u001b[39mself\u001b[39;49m,\n\u001b[0;32m   2953\u001b[0m     name,\n\u001b[0;32m   2954\u001b[0m     con,\n\u001b[0;32m   2955\u001b[0m     schema\u001b[39m=\u001b[39;49mschema,\n\u001b[0;32m   2956\u001b[0m     if_exists\u001b[39m=\u001b[39;49mif_exists,\n\u001b[0;32m   2957\u001b[0m     index\u001b[39m=\u001b[39;49mindex,\n\u001b[0;32m   2958\u001b[0m     index_label\u001b[39m=\u001b[39;49mindex_label,\n\u001b[0;32m   2959\u001b[0m     chunksize\u001b[39m=\u001b[39;49mchunksize,\n\u001b[0;32m   2960\u001b[0m     dtype\u001b[39m=\u001b[39;49mdtype,\n\u001b[0;32m   2961\u001b[0m     method\u001b[39m=\u001b[39;49mmethod,\n\u001b[0;32m   2962\u001b[0m )\n",
      "File \u001b[1;32mc:\\Users\\ChrisWilliams\\anaconda3\\lib\\site-packages\\pandas\\io\\sql.py:697\u001b[0m, in \u001b[0;36mto_sql\u001b[1;34m(frame, name, con, schema, if_exists, index, index_label, chunksize, dtype, method, engine, **engine_kwargs)\u001b[0m\n\u001b[0;32m    692\u001b[0m \u001b[39melif\u001b[39;00m \u001b[39mnot\u001b[39;00m \u001b[39misinstance\u001b[39m(frame, DataFrame):\n\u001b[0;32m    693\u001b[0m     \u001b[39mraise\u001b[39;00m \u001b[39mNotImplementedError\u001b[39;00m(\n\u001b[0;32m    694\u001b[0m         \u001b[39m\"\u001b[39m\u001b[39m'\u001b[39m\u001b[39mframe\u001b[39m\u001b[39m'\u001b[39m\u001b[39m argument should be either a Series or a DataFrame\u001b[39m\u001b[39m\"\u001b[39m\n\u001b[0;32m    695\u001b[0m     )\n\u001b[1;32m--> 697\u001b[0m \u001b[39mreturn\u001b[39;00m pandas_sql\u001b[39m.\u001b[39mto_sql(\n\u001b[0;32m    698\u001b[0m     frame,\n\u001b[0;32m    699\u001b[0m     name,\n\u001b[0;32m    700\u001b[0m     if_exists\u001b[39m=\u001b[39mif_exists,\n\u001b[0;32m    701\u001b[0m     index\u001b[39m=\u001b[39mindex,\n\u001b[0;32m    702\u001b[0m     index_label\u001b[39m=\u001b[39mindex_label,\n\u001b[0;32m    703\u001b[0m     schema\u001b[39m=\u001b[39mschema,\n\u001b[0;32m    704\u001b[0m     chunksize\u001b[39m=\u001b[39mchunksize,\n\u001b[0;32m    705\u001b[0m     dtype\u001b[39m=\u001b[39mdtype,\n\u001b[0;32m    706\u001b[0m     method\u001b[39m=\u001b[39mmethod,\n\u001b[0;32m    707\u001b[0m     engine\u001b[39m=\u001b[39mengine,\n\u001b[0;32m    708\u001b[0m     \u001b[39m*\u001b[39m\u001b[39m*\u001b[39mengine_kwargs,\n\u001b[0;32m    709\u001b[0m )\n",
      "File \u001b[1;32mc:\\Users\\ChrisWilliams\\anaconda3\\lib\\site-packages\\pandas\\io\\sql.py:2189\u001b[0m, in \u001b[0;36mSQLiteDatabase.to_sql\u001b[1;34m(self, frame, name, if_exists, index, index_label, schema, chunksize, dtype, method, **kwargs)\u001b[0m\n\u001b[0;32m   2178\u001b[0m             \u001b[39mraise\u001b[39;00m \u001b[39mValueError\u001b[39;00m(\u001b[39mf\u001b[39m\u001b[39m\"\u001b[39m\u001b[39m{\u001b[39;00mcol\u001b[39m}\u001b[39;00m\u001b[39m (\u001b[39m\u001b[39m{\u001b[39;00mmy_type\u001b[39m}\u001b[39;00m\u001b[39m) not a string\u001b[39m\u001b[39m\"\u001b[39m)\n\u001b[0;32m   2180\u001b[0m table \u001b[39m=\u001b[39m SQLiteTable(\n\u001b[0;32m   2181\u001b[0m     name,\n\u001b[0;32m   2182\u001b[0m     \u001b[39mself\u001b[39m,\n\u001b[1;32m   (...)\u001b[0m\n\u001b[0;32m   2187\u001b[0m     dtype\u001b[39m=\u001b[39mdtype,\n\u001b[0;32m   2188\u001b[0m )\n\u001b[1;32m-> 2189\u001b[0m table\u001b[39m.\u001b[39;49mcreate()\n\u001b[0;32m   2190\u001b[0m \u001b[39mreturn\u001b[39;00m table\u001b[39m.\u001b[39minsert(chunksize, method)\n",
      "File \u001b[1;32mc:\\Users\\ChrisWilliams\\anaconda3\\lib\\site-packages\\pandas\\io\\sql.py:831\u001b[0m, in \u001b[0;36mSQLTable.create\u001b[1;34m(self)\u001b[0m\n\u001b[0;32m    830\u001b[0m \u001b[39mdef\u001b[39;00m \u001b[39mcreate\u001b[39m(\u001b[39mself\u001b[39m):\n\u001b[1;32m--> 831\u001b[0m     \u001b[39mif\u001b[39;00m \u001b[39mself\u001b[39;49m\u001b[39m.\u001b[39;49mexists():\n\u001b[0;32m    832\u001b[0m         \u001b[39mif\u001b[39;00m \u001b[39mself\u001b[39m\u001b[39m.\u001b[39mif_exists \u001b[39m==\u001b[39m \u001b[39m\"\u001b[39m\u001b[39mfail\u001b[39m\u001b[39m\"\u001b[39m:\n\u001b[0;32m    833\u001b[0m             \u001b[39mraise\u001b[39;00m \u001b[39mValueError\u001b[39;00m(\u001b[39mf\u001b[39m\u001b[39m\"\u001b[39m\u001b[39mTable \u001b[39m\u001b[39m'\u001b[39m\u001b[39m{\u001b[39;00m\u001b[39mself\u001b[39m\u001b[39m.\u001b[39mname\u001b[39m}\u001b[39;00m\u001b[39m'\u001b[39m\u001b[39m already exists.\u001b[39m\u001b[39m\"\u001b[39m)\n",
      "File \u001b[1;32mc:\\Users\\ChrisWilliams\\anaconda3\\lib\\site-packages\\pandas\\io\\sql.py:815\u001b[0m, in \u001b[0;36mSQLTable.exists\u001b[1;34m(self)\u001b[0m\n\u001b[0;32m    814\u001b[0m \u001b[39mdef\u001b[39;00m \u001b[39mexists\u001b[39m(\u001b[39mself\u001b[39m):\n\u001b[1;32m--> 815\u001b[0m     \u001b[39mreturn\u001b[39;00m \u001b[39mself\u001b[39;49m\u001b[39m.\u001b[39;49mpd_sql\u001b[39m.\u001b[39;49mhas_table(\u001b[39mself\u001b[39;49m\u001b[39m.\u001b[39;49mname, \u001b[39mself\u001b[39;49m\u001b[39m.\u001b[39;49mschema)\n",
      "File \u001b[1;32mc:\\Users\\ChrisWilliams\\anaconda3\\lib\\site-packages\\pandas\\io\\sql.py:2197\u001b[0m, in \u001b[0;36mSQLiteDatabase.has_table\u001b[1;34m(self, name, schema)\u001b[0m\n\u001b[0;32m   2194\u001b[0m wld \u001b[39m=\u001b[39m \u001b[39m\"\u001b[39m\u001b[39m?\u001b[39m\u001b[39m\"\u001b[39m\n\u001b[0;32m   2195\u001b[0m query \u001b[39m=\u001b[39m \u001b[39mf\u001b[39m\u001b[39m\"\u001b[39m\u001b[39mSELECT name FROM sqlite_master WHERE type=\u001b[39m\u001b[39m'\u001b[39m\u001b[39mtable\u001b[39m\u001b[39m'\u001b[39m\u001b[39m AND name=\u001b[39m\u001b[39m{\u001b[39;00mwld\u001b[39m}\u001b[39;00m\u001b[39m;\u001b[39m\u001b[39m\"\u001b[39m\n\u001b[1;32m-> 2197\u001b[0m \u001b[39mreturn\u001b[39;00m \u001b[39mlen\u001b[39m(\u001b[39mself\u001b[39;49m\u001b[39m.\u001b[39;49mexecute(query, [name])\u001b[39m.\u001b[39mfetchall()) \u001b[39m>\u001b[39m \u001b[39m0\u001b[39m\n",
      "File \u001b[1;32mc:\\Users\\ChrisWilliams\\anaconda3\\lib\\site-packages\\pandas\\io\\sql.py:2032\u001b[0m, in \u001b[0;36mSQLiteDatabase.execute\u001b[1;34m(self, *args, **kwargs)\u001b[0m\n\u001b[0;32m   2029\u001b[0m     \u001b[39mraise\u001b[39;00m ex \u001b[39mfrom\u001b[39;00m \u001b[39minner_exc\u001b[39;00m\n\u001b[0;32m   2031\u001b[0m ex \u001b[39m=\u001b[39m DatabaseError(\u001b[39mf\u001b[39m\u001b[39m\"\u001b[39m\u001b[39mExecution failed on sql \u001b[39m\u001b[39m'\u001b[39m\u001b[39m{\u001b[39;00margs[\u001b[39m0\u001b[39m]\u001b[39m}\u001b[39;00m\u001b[39m'\u001b[39m\u001b[39m: \u001b[39m\u001b[39m{\u001b[39;00mexc\u001b[39m}\u001b[39;00m\u001b[39m\"\u001b[39m)\n\u001b[1;32m-> 2032\u001b[0m \u001b[39mraise\u001b[39;00m ex \u001b[39mfrom\u001b[39;00m \u001b[39mexc\u001b[39;00m\n",
      "\u001b[1;31mDatabaseError\u001b[0m: Execution failed on sql 'SELECT name FROM sqlite_master WHERE type='table' AND name=?;': not all arguments converted during string formatting"
     ]
    }
   ],
   "source": [
    "with open(\"db_login.json\", \"r\") as f:\n",
    "    login = json.load(f)\n",
    "\n",
    "conn = pymysql.connect(\n",
    "    host=login['host'],\n",
    "    user=login['user'],\n",
    "    password=login['pass'],\n",
    "    database=login['db_name'],\n",
    "    cursorclass=pymysql.cursors.DictCursor,\n",
    "    ssl={\"fake_flag_to_enable_tls\":True}\n",
    "    # see link https://stackoverflow.com/questions/55617520/unable-to-make-tls-tcp-connection-to-remote-mysql-server-with-pymysql-other-too\n",
    ")\n",
    "engine = create_engine(f\"mysql+pymysql://{login['user']}:{login['pass']}@{login['host']}/{login['db_name']}\")\n",
    "\n",
    "with conn:\n",
    "    with conn.cursor() as cur:\n",
    "        cur.execute(\"\"\"\n",
    "                    CREATE TABLE IF NOT EXISTS test_clean(\n",
    "                    order_id INTEGER PRIMARY KEY NOT NULL,\n",
    "                    product TEXT,\n",
    "                    quantity INTEGER,\n",
    "                    order_month VARCHAR(3),\n",
    "                    age INTEGER,\n",
    "                    uk_region VARCHAR(20),\n",
    "                    cpa DOUBLE,\n",
    "                    order_year INTEGER\n",
    "        );\"\"\")\n",
    "    conn.commit()\n",
    "    df.to_sql('test_clean', engine, if_exists='append')"
   ]
  },
  {
   "cell_type": "code",
   "execution_count": null,
   "metadata": {},
   "outputs": [],
   "source": []
  }
 ],
 "metadata": {
  "kernelspec": {
   "display_name": "Python 3.9.12 ('base')",
   "language": "python",
   "name": "python3"
  },
  "language_info": {
   "codemirror_mode": {
    "name": "ipython",
    "version": 3
   },
   "file_extension": ".py",
   "mimetype": "text/x-python",
   "name": "python",
   "nbconvert_exporter": "python",
   "pygments_lexer": "ipython3",
   "version": "3.9.12"
  },
  "orig_nbformat": 4,
  "vscode": {
   "interpreter": {
    "hash": "1fcba68f5922d33352caa0417a8cb67a07dba6e71cb24b1c2a2965ea2289e844"
   }
  }
 },
 "nbformat": 4,
 "nbformat_minor": 2
}
