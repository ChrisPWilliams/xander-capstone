{
 "cells": [
  {
   "cell_type": "code",
   "execution_count": 21,
   "metadata": {},
   "outputs": [],
   "source": [
    "import requests\n",
    "import pandas as pd\n",
    "import re\n",
    "import pymysql.cursors\n",
    "import json\n",
    "from sqlalchemy import create_engine"
   ]
  },
  {
   "cell_type": "markdown",
   "metadata": {},
   "source": [
    "# Sales data for ACME Corp.\n",
    "\n",
    "## Project requirements\n",
    "\n",
    "1. Which product offering is performing better \n",
    "\n",
    "2. Provide information on user demographics (age range, region) would help them hone in on marketing spend \n",
    "\n",
    "3. Are the sales seasonal or does it remain consistent throughout the year \n",
    "\n",
    "4. In the year 2021, our nationwide marketing spend was £200,000,000. Marketing activities covered the following regions - UK South East, UK North East, UK North, UK South. Can we justify the spend or was it a wasteful expenditure? \n",
    "\n",
    "5. We need to find out by region if our CPA – cost per acquisition is higher or lower than the average as per the research found on https://mystaticwebsite-3.s3.amazonaws.com/index.html "
   ]
  },
  {
   "cell_type": "code",
   "execution_count": 22,
   "metadata": {},
   "outputs": [
    {
     "name": "stdout",
     "output_type": "stream",
     "text": [
      "<class 'pandas.core.frame.DataFrame'>\n",
      "RangeIndex: 51 entries, 0 to 50\n",
      "Data columns (total 7 columns):\n",
      " #   Column       Non-Null Count  Dtype  \n",
      "---  ------       --------------  -----  \n",
      " 0   order_id     50 non-null     float64\n",
      " 1   product      50 non-null     object \n",
      " 2   quantity     50 non-null     float64\n",
      " 3   order_month  50 non-null     object \n",
      " 4   age          50 non-null     float64\n",
      " 5   uk_region    50 non-null     object \n",
      " 6   cpa          50 non-null     float64\n",
      "dtypes: float64(4), object(3)\n",
      "memory usage: 2.9+ KB\n"
     ]
    }
   ],
   "source": [
    "data_url = \"https://mystaticwebsite-3.s3.amazonaws.com/test-data.csv\"\n",
    "data = requests.get(data_url).content\n",
    "file_path = \"data/\" + data_url.split('/')[-1]\n",
    "with open(file_path, 'wb') as f:\n",
    "    f.write(data)\n",
    "df = pd.read_csv(file_path)\n",
    "df.info()"
   ]
  },
  {
   "cell_type": "code",
   "execution_count": 23,
   "metadata": {},
   "outputs": [
    {
     "data": {
      "text/html": [
       "<div>\n",
       "<style scoped>\n",
       "    .dataframe tbody tr th:only-of-type {\n",
       "        vertical-align: middle;\n",
       "    }\n",
       "\n",
       "    .dataframe tbody tr th {\n",
       "        vertical-align: top;\n",
       "    }\n",
       "\n",
       "    .dataframe thead th {\n",
       "        text-align: right;\n",
       "    }\n",
       "</style>\n",
       "<table border=\"1\" class=\"dataframe\">\n",
       "  <thead>\n",
       "    <tr style=\"text-align: right;\">\n",
       "      <th></th>\n",
       "      <th>order_id</th>\n",
       "      <th>product</th>\n",
       "      <th>quantity</th>\n",
       "      <th>order_month</th>\n",
       "      <th>age</th>\n",
       "      <th>uk_region</th>\n",
       "      <th>cpa</th>\n",
       "    </tr>\n",
       "  </thead>\n",
       "  <tbody>\n",
       "    <tr>\n",
       "      <th>50</th>\n",
       "      <td>NaN</td>\n",
       "      <td>NaN</td>\n",
       "      <td>NaN</td>\n",
       "      <td>NaN</td>\n",
       "      <td>NaN</td>\n",
       "      <td>NaN</td>\n",
       "      <td>NaN</td>\n",
       "    </tr>\n",
       "  </tbody>\n",
       "</table>\n",
       "</div>"
      ],
      "text/plain": [
       "    order_id product  quantity order_month  age uk_region  cpa\n",
       "50       NaN     NaN       NaN         NaN  NaN       NaN  NaN"
      ]
     },
     "execution_count": 23,
     "metadata": {},
     "output_type": "execute_result"
    }
   ],
   "source": [
    "df[df.isna().any(axis=1)]"
   ]
  },
  {
   "cell_type": "code",
   "execution_count": 24,
   "metadata": {},
   "outputs": [],
   "source": [
    "# One row containing all nulls, no other nulls so can safely drop\n",
    "\n",
    "df.dropna(inplace=True)"
   ]
  },
  {
   "cell_type": "markdown",
   "metadata": {},
   "source": [
    "Assumptions for each column to check validation:\n",
    "* order_id : must be unique positive int\n",
    "* product : must be either \"toys\" or \"toothbrush\"\n",
    "* quantity : must be positive int\n",
    "* order_month : must be in the format mmm-yy\n",
    "* age : must be positive int, should be a sensible number\n",
    "* uk_region : must be either \"UK South East\", \"UK North East\", \"UK North\", or \"UK South\"\n",
    "* cpa : must be positive numeric"
   ]
  },
  {
   "cell_type": "code",
   "execution_count": 25,
   "metadata": {},
   "outputs": [
    {
     "name": "stdout",
     "output_type": "stream",
     "text": [
      "count    50.00000\n",
      "mean     25.50000\n",
      "std      14.57738\n",
      "min       1.00000\n",
      "25%      13.25000\n",
      "50%      25.50000\n",
      "75%      37.75000\n",
      "max      50.00000\n",
      "Name: order_id, dtype: float64\n",
      "count             50\n",
      "unique             2\n",
      "top       toothbrush\n",
      "freq              35\n",
      "Name: product, dtype: object\n",
      "count    50.000000\n",
      "mean      1.320000\n",
      "std       0.586933\n",
      "min       1.000000\n",
      "25%       1.000000\n",
      "50%       1.000000\n",
      "75%       1.750000\n",
      "max       3.000000\n",
      "Name: quantity, dtype: float64\n",
      "count         50\n",
      "unique         5\n",
      "top       Mar-21\n",
      "freq          14\n",
      "Name: order_month, dtype: object\n",
      "count    50.000000\n",
      "mean     30.840000\n",
      "std      20.769247\n",
      "min     -59.000000\n",
      "25%      21.000000\n",
      "50%      31.000000\n",
      "75%      42.500000\n",
      "max      60.000000\n",
      "Name: age, dtype: float64\n",
      "count                50\n",
      "unique                3\n",
      "top       UK South East\n",
      "freq                 22\n",
      "Name: uk_region, dtype: object\n",
      "count    50.000000\n",
      "mean      3.180000\n",
      "std       1.955526\n",
      "min       1.000000\n",
      "25%       2.000000\n",
      "50%       3.000000\n",
      "75%       3.000000\n",
      "max      10.000000\n",
      "Name: cpa, dtype: float64\n"
     ]
    }
   ],
   "source": [
    "for col in df.columns:\n",
    "    print(df[col].describe())"
   ]
  },
  {
   "cell_type": "code",
   "execution_count": 26,
   "metadata": {},
   "outputs": [
    {
     "name": "stdout",
     "output_type": "stream",
     "text": [
      "Unique order ids: 50\n",
      "Number of orders: 50\n"
     ]
    }
   ],
   "source": [
    "print(f\"Unique order ids: {df['order_id'].nunique()}\")\n",
    "print(f\"Number of orders: {len(df)}\")"
   ]
  },
  {
   "cell_type": "code",
   "execution_count": 27,
   "metadata": {},
   "outputs": [
    {
     "data": {
      "text/plain": [
       "toothbrush    35\n",
       "toys          15\n",
       "Name: product, dtype: int64"
      ]
     },
     "execution_count": 27,
     "metadata": {},
     "output_type": "execute_result"
    }
   ],
   "source": [
    "# order_id is fine, check product:\n",
    "df['product'].value_counts()"
   ]
  },
  {
   "cell_type": "code",
   "execution_count": 28,
   "metadata": {},
   "outputs": [
    {
     "data": {
      "text/html": [
       "<div>\n",
       "<style scoped>\n",
       "    .dataframe tbody tr th:only-of-type {\n",
       "        vertical-align: middle;\n",
       "    }\n",
       "\n",
       "    .dataframe tbody tr th {\n",
       "        vertical-align: top;\n",
       "    }\n",
       "\n",
       "    .dataframe thead th {\n",
       "        text-align: right;\n",
       "    }\n",
       "</style>\n",
       "<table border=\"1\" class=\"dataframe\">\n",
       "  <thead>\n",
       "    <tr style=\"text-align: right;\">\n",
       "      <th></th>\n",
       "      <th>order_id</th>\n",
       "      <th>product</th>\n",
       "      <th>quantity</th>\n",
       "      <th>order_month</th>\n",
       "      <th>age</th>\n",
       "      <th>uk_region</th>\n",
       "      <th>cpa</th>\n",
       "    </tr>\n",
       "  </thead>\n",
       "  <tbody>\n",
       "  </tbody>\n",
       "</table>\n",
       "</div>"
      ],
      "text/plain": [
       "Empty DataFrame\n",
       "Columns: [order_id, product, quantity, order_month, age, uk_region, cpa]\n",
       "Index: []"
      ]
     },
     "execution_count": 28,
     "metadata": {},
     "output_type": "execute_result"
    }
   ],
   "source": [
    "# product is fine, check quantity:\n",
    "df[df['quantity'].map(lambda x: (x % 1 != 0) or (x < 0))]"
   ]
  },
  {
   "cell_type": "code",
   "execution_count": 29,
   "metadata": {},
   "outputs": [
    {
     "data": {
      "text/html": [
       "<div>\n",
       "<style scoped>\n",
       "    .dataframe tbody tr th:only-of-type {\n",
       "        vertical-align: middle;\n",
       "    }\n",
       "\n",
       "    .dataframe tbody tr th {\n",
       "        vertical-align: top;\n",
       "    }\n",
       "\n",
       "    .dataframe thead th {\n",
       "        text-align: right;\n",
       "    }\n",
       "</style>\n",
       "<table border=\"1\" class=\"dataframe\">\n",
       "  <thead>\n",
       "    <tr style=\"text-align: right;\">\n",
       "      <th></th>\n",
       "      <th>order_id</th>\n",
       "      <th>product</th>\n",
       "      <th>quantity</th>\n",
       "      <th>order_month</th>\n",
       "      <th>age</th>\n",
       "      <th>uk_region</th>\n",
       "      <th>cpa</th>\n",
       "    </tr>\n",
       "  </thead>\n",
       "  <tbody>\n",
       "  </tbody>\n",
       "</table>\n",
       "</div>"
      ],
      "text/plain": [
       "Empty DataFrame\n",
       "Columns: [order_id, product, quantity, order_month, age, uk_region, cpa]\n",
       "Index: []"
      ]
     },
     "execution_count": 29,
     "metadata": {},
     "output_type": "execute_result"
    }
   ],
   "source": [
    "# quantity is fine, check order month:\n",
    "df[df[\"order_month\"].map(lambda x: not re.match(r\"(Jan|Feb|Mar|Apr|May|Jun|Jul|Aug|Sep|Oct|Nov|Dec)-[0-9]{2}\", x))]"
   ]
  },
  {
   "cell_type": "code",
   "execution_count": 30,
   "metadata": {},
   "outputs": [
    {
     "data": {
      "text/html": [
       "<div>\n",
       "<style scoped>\n",
       "    .dataframe tbody tr th:only-of-type {\n",
       "        vertical-align: middle;\n",
       "    }\n",
       "\n",
       "    .dataframe tbody tr th {\n",
       "        vertical-align: top;\n",
       "    }\n",
       "\n",
       "    .dataframe thead th {\n",
       "        text-align: right;\n",
       "    }\n",
       "</style>\n",
       "<table border=\"1\" class=\"dataframe\">\n",
       "  <thead>\n",
       "    <tr style=\"text-align: right;\">\n",
       "      <th></th>\n",
       "      <th>order_id</th>\n",
       "      <th>product</th>\n",
       "      <th>quantity</th>\n",
       "      <th>order_month</th>\n",
       "      <th>age</th>\n",
       "      <th>uk_region</th>\n",
       "      <th>cpa</th>\n",
       "    </tr>\n",
       "  </thead>\n",
       "  <tbody>\n",
       "    <tr>\n",
       "      <th>21</th>\n",
       "      <td>22.0</td>\n",
       "      <td>toothbrush</td>\n",
       "      <td>1.0</td>\n",
       "      <td>Mar-21</td>\n",
       "      <td>-59.0</td>\n",
       "      <td>UK North East</td>\n",
       "      <td>5.0</td>\n",
       "    </tr>\n",
       "    <tr>\n",
       "      <th>31</th>\n",
       "      <td>32.0</td>\n",
       "      <td>toys</td>\n",
       "      <td>1.0</td>\n",
       "      <td>Jan-21</td>\n",
       "      <td>-31.0</td>\n",
       "      <td>UK South East</td>\n",
       "      <td>2.0</td>\n",
       "    </tr>\n",
       "  </tbody>\n",
       "</table>\n",
       "</div>"
      ],
      "text/plain": [
       "    order_id     product  quantity order_month   age      uk_region  cpa\n",
       "21      22.0  toothbrush       1.0      Mar-21 -59.0  UK North East  5.0\n",
       "31      32.0        toys       1.0      Jan-21 -31.0  UK South East  2.0"
      ]
     },
     "execution_count": 30,
     "metadata": {},
     "output_type": "execute_result"
    }
   ],
   "source": [
    "# order month is fine, check age:\n",
    "df[df['age'].map(lambda x: (x % 1 != 0) or (x < 0) or (x > 100))]"
   ]
  },
  {
   "cell_type": "code",
   "execution_count": 31,
   "metadata": {},
   "outputs": [],
   "source": [
    "# looks like 2 ages have accidentally been entered with minus signs, this can be easily reversed:\n",
    "\n",
    "df['age'] = abs(df['age'])"
   ]
  },
  {
   "cell_type": "code",
   "execution_count": 32,
   "metadata": {},
   "outputs": [
    {
     "data": {
      "text/plain": [
       "UK South East    22\n",
       "UK North East    20\n",
       "UK North          8\n",
       "Name: uk_region, dtype: int64"
      ]
     },
     "execution_count": 32,
     "metadata": {},
     "output_type": "execute_result"
    }
   ],
   "source": [
    "# check uk_region\n",
    "\n",
    "df['uk_region'].value_counts()"
   ]
  },
  {
   "cell_type": "code",
   "execution_count": 33,
   "metadata": {},
   "outputs": [],
   "source": [
    "# no data for UK South, otherwise the column is fine."
   ]
  },
  {
   "cell_type": "markdown",
   "metadata": {},
   "source": [
    "Individual columns are cleaned successfully, however for analysis of seasonality it will be useful to separate out months from years. We will also need to set the types of relevant columns to int to make sure that unnecessary decimal places are not saved."
   ]
  },
  {
   "cell_type": "code",
   "execution_count": 34,
   "metadata": {},
   "outputs": [],
   "source": [
    "df['order_year'] = df['order_month'].map(lambda x: x[-2:])\n",
    "df['order_month'] = df['order_month'].map(lambda x: x[:3])\n",
    "\n",
    "for col in ['order_id', 'quantity', 'age', 'order_year']:\n",
    "    df[col] = df[col].astype('int64')"
   ]
  },
  {
   "cell_type": "markdown",
   "metadata": {},
   "source": [
    "Add data to SQL database:"
   ]
  },
  {
   "cell_type": "code",
   "execution_count": 37,
   "metadata": {},
   "outputs": [],
   "source": [
    "with open(\"db_login.json\", \"r\") as f:\n",
    "    login = json.load(f)\n",
    "\n",
    "conn = pymysql.connect(\n",
    "    host=login['host'],\n",
    "    user=login['user'],\n",
    "    password=login['pass'],\n",
    "    database=login['db_name'],\n",
    "    cursorclass=pymysql.cursors.DictCursor,\n",
    "    ssl={\"fake_flag_to_enable_tls\":True}\n",
    "    # see link https://stackoverflow.com/questions/55617520/unable-to-make-tls-tcp-connection-to-remote-mysql-server-with-pymysql-other-too\n",
    ")\n",
    "engine = create_engine(f\"mysql+pymysql://{login['user']}:{login['pass']}@{login['host']}/{login['db_name']}\",\n",
    "                        connect_args={\"ssl\":{\"fake_flag_to_enable_tls\":True}})\n",
    "\n",
    "with conn:\n",
    "    with conn.cursor() as cur:\n",
    "        cur.execute(\"\"\"\n",
    "                    CREATE TABLE IF NOT EXISTS test_clean(\n",
    "                    order_id INTEGER PRIMARY KEY NOT NULL,\n",
    "                    product TEXT,\n",
    "                    quantity INTEGER,\n",
    "                    order_month VARCHAR(3),\n",
    "                    age INTEGER,\n",
    "                    uk_region VARCHAR(20),\n",
    "                    cpa DOUBLE,\n",
    "                    order_year INTEGER\n",
    "        );\"\"\")\n",
    "    conn.commit()\n",
    "    df.to_sql('test_clean', engine, if_exists='append', index=False)"
   ]
  }
 ],
 "metadata": {
  "kernelspec": {
   "display_name": "Python 3.9.12 ('base')",
   "language": "python",
   "name": "python3"
  },
  "language_info": {
   "codemirror_mode": {
    "name": "ipython",
    "version": 3
   },
   "file_extension": ".py",
   "mimetype": "text/x-python",
   "name": "python",
   "nbconvert_exporter": "python",
   "pygments_lexer": "ipython3",
   "version": "3.9.12"
  },
  "orig_nbformat": 4,
  "vscode": {
   "interpreter": {
    "hash": "1fcba68f5922d33352caa0417a8cb67a07dba6e71cb24b1c2a2965ea2289e844"
   }
  }
 },
 "nbformat": 4,
 "nbformat_minor": 2
}
